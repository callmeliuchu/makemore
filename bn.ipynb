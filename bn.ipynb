{
 "cells": [
  {
   "cell_type": "code",
   "execution_count": 1,
   "id": "fbbe0a74",
   "metadata": {},
   "outputs": [],
   "source": [
    "import torch\n",
    "from torch import nn\n",
    "import torch.nn.functional as F"
   ]
  },
  {
   "cell_type": "code",
   "execution_count": 2,
   "id": "4c3235cd",
   "metadata": {},
   "outputs": [],
   "source": [
    "names = open('names.txt','r').read().splitlines()"
   ]
  },
  {
   "cell_type": "code",
   "execution_count": 3,
   "id": "67e8adbe",
   "metadata": {},
   "outputs": [
    {
     "data": {
      "text/plain": [
       "['emma',\n",
       " 'olivia',\n",
       " 'ava',\n",
       " 'isabella',\n",
       " 'sophia',\n",
       " 'charlotte',\n",
       " 'mia',\n",
       " 'amelia',\n",
       " 'harper',\n",
       " 'evelyn']"
      ]
     },
     "execution_count": 3,
     "metadata": {},
     "output_type": "execute_result"
    }
   ],
   "source": [
    "names[:10]"
   ]
  },
  {
   "cell_type": "code",
   "execution_count": 4,
   "id": "3195fd57",
   "metadata": {},
   "outputs": [],
   "source": [
    "chars = sorted(list(set(''.join(names))))"
   ]
  },
  {
   "cell_type": "code",
   "execution_count": 5,
   "id": "94f4ffbf",
   "metadata": {},
   "outputs": [],
   "source": [
    "stoi={}\n",
    "itos = {}\n",
    "stoi['.']=0\n",
    "itos[0]='.'\n",
    "for i,c in enumerate(chars):\n",
    "    stoi[c] = i+1\n",
    "    itos[i+1]=c"
   ]
  },
  {
   "cell_type": "code",
   "execution_count": 10,
   "id": "e0407474",
   "metadata": {},
   "outputs": [],
   "source": [
    "def get_data(words):\n",
    "    block_size = 3\n",
    "    X = []\n",
    "    Y = []\n",
    "    for w in words:\n",
    "        context = [0]*block_size\n",
    "        for c in w + '.':\n",
    "            ix = stoi[c]\n",
    "            X.append(context)\n",
    "            Y.append(ix)\n",
    "            context = context[1:]+[ix]\n",
    "    X = torch.tensor(X)\n",
    "    Y = torch.tensor(Y)\n",
    "    return X,Y"
   ]
  },
  {
   "cell_type": "code",
   "execution_count": 11,
   "id": "0480bff0",
   "metadata": {},
   "outputs": [],
   "source": [
    "X,Y = get_data(names)"
   ]
  },
  {
   "cell_type": "code",
   "execution_count": 13,
   "id": "72ce113b",
   "metadata": {},
   "outputs": [
    {
     "data": {
      "text/plain": [
       "(tensor([[ 0,  0,  0],\n",
       "         [ 0,  0,  5],\n",
       "         [ 0,  5, 13],\n",
       "         [ 5, 13, 13],\n",
       "         [13, 13,  1],\n",
       "         [ 0,  0,  0],\n",
       "         [ 0,  0, 15],\n",
       "         [ 0, 15, 12],\n",
       "         [15, 12,  9],\n",
       "         [12,  9, 22]]),\n",
       " tensor([ 5, 13, 13,  1,  0, 15, 12,  9, 22,  9]))"
      ]
     },
     "execution_count": 13,
     "metadata": {},
     "output_type": "execute_result"
    }
   ],
   "source": [
    "X[:10],Y[:10]"
   ]
  },
  {
   "cell_type": "code",
   "execution_count": 180,
   "id": "f79c3e59",
   "metadata": {},
   "outputs": [
    {
     "name": "stdout",
     "output_type": "stream",
     "text": [
      "24.610027313232422\n",
      "2.338359832763672\n",
      "2.7370457649230957\n",
      "1.9095947742462158\n",
      "2.1854395866394043\n",
      "2.2639575004577637\n",
      "2.5666255950927734\n",
      "2.377969980239868\n",
      "2.2268550395965576\n",
      "2.2027294635772705\n",
      "2.302860975265503\n",
      "2.217515468597412\n",
      "2.135256052017212\n",
      "2.180211305618286\n",
      "2.3095669746398926\n",
      "2.3808343410491943\n",
      "2.0995092391967773\n",
      "2.1182806491851807\n",
      "1.7603278160095215\n",
      "2.0243823528289795\n"
     ]
    }
   ],
   "source": [
    "C = torch.randn((27,10))\n",
    "W1 = torch.randn((30,200))\n",
    "b1 = torch.randn(200)\n",
    "W2 = torch.randn((200,27))\n",
    "b2 = torch.randn(27)\n",
    "params = [C,W1,b1,W2,b2]\n",
    "for p in params:\n",
    "    p.requires_grad = True\n",
    "def train(X,Y):\n",
    "    for i in range(200000):\n",
    "        ixs = torch.randint(0,len(X),(32,))\n",
    "        Xt = X[ixs] # B,3\n",
    "        Yt = Y[ixs]\n",
    "        embed = C[Xt].view(len(Xt),-1) # B,30\n",
    "        h = torch.tanh(embed @ W1 + b1)\n",
    "        logits = h @ W2 + b2\n",
    "        counts = logits.exp()\n",
    "        probs = counts / counts.sum(dim=1,keepdims=True)\n",
    "        loss = -probs[torch.arange(len(Yt)),Yt].log().mean()\n",
    "        if i % 10000 == 0:\n",
    "            print(loss.item())\n",
    "        for p in params:\n",
    "            p.grad = None\n",
    "        loss.backward()\n",
    "        lr = 0.1 if i < 100000 else 0.01\n",
    "        for p in params:\n",
    "            p.data += -lr*p.grad\n",
    "train(X,Y)"
   ]
  },
  {
   "cell_type": "code",
   "execution_count": 139,
   "id": "54573ee1",
   "metadata": {},
   "outputs": [
    {
     "name": "stdout",
     "output_type": "stream",
     "text": [
      "21.266706466674805\n",
      "2.8845198154449463\n",
      "2.579099655151367\n",
      "2.392408847808838\n",
      "2.1954123973846436\n",
      "2.257458209991455\n",
      "2.210493564605713\n",
      "2.5479586124420166\n",
      "2.135347843170166\n",
      "2.5191166400909424\n",
      "2.5528926849365234\n",
      "2.3193135261535645\n",
      "2.350252151489258\n",
      "2.2613630294799805\n",
      "1.8815114498138428\n",
      "1.7844417095184326\n",
      "2.576780080795288\n",
      "2.0307910442352295\n",
      "2.3529863357543945\n",
      "2.232245445251465\n",
      "2.2092714309692383\n",
      "2.0538454055786133\n",
      "1.5810080766677856\n",
      "2.514617919921875\n",
      "2.434250593185425\n",
      "2.193006992340088\n",
      "2.2512848377227783\n",
      "2.339474678039551\n",
      "2.5057222843170166\n",
      "2.113816261291504\n"
     ]
    }
   ],
   "source": [
    "C = torch.randn((27,10))\n",
    "W1 = torch.randn((30,200))\n",
    "b1 = torch.randn(200)\n",
    "W2 = torch.randn((200,27))\n",
    "b2 = torch.randn(27)\n",
    "\n",
    "# batch norm\n",
    "bngain = torch.ones((1,200))\n",
    "bnbais = torch.zeros((1,200))\n",
    "params = [C,W1,W2,b2,bngain,bnbais]\n",
    "for p in params:\n",
    "    p.requires_grad = True\n",
    "bnmean_running = torch.zeros((1,200))\n",
    "bnstd_running = torch.ones((1,200))\n",
    "\n",
    "\n",
    "for i in range(300000):\n",
    "    ixs = torch.randint(0,len(X),(32,))\n",
    "    Xt = X[ixs] # B,3\n",
    "    Yt = Y[ixs]\n",
    "    embed = C[Xt].view(len(Xt),-1) # B,30\n",
    "\n",
    "    # batch layer\n",
    "    hpreact = embed @ W1\n",
    "    bnmeani = hpreact.mean(dim=0,keepdims=True)\n",
    "    bnstdi = hpreact.std(dim=0,keepdims=True)\n",
    "    hpreact = bngain * (hpreact-bnmeani)/bnstdi + bnbais\n",
    "    with torch.no_grad():\n",
    "        bnmean_running = 0.999 * bnmean_running + 0.001*bnmeani\n",
    "        bnstd_running = 0.999 * bnstd_running + 0.001*bnstdi\n",
    "    h = torch.tanh(hpreact)\n",
    "    logits = h @ W2 + b2\n",
    "    counts = logits.exp()\n",
    "    probs = counts / counts.sum(dim=1,keepdims=True)\n",
    "    loss = -probs[torch.arange(len(Yt)),Yt].log().mean()\n",
    "    if i % 10000 == 0:\n",
    "        print(loss.item())\n",
    "    for p in params:\n",
    "        p.grad = None\n",
    "    loss.backward()\n",
    "    lr = 0.1 if i < 100000 else 0.01\n",
    "    for k,p in enumerate(params):\n",
    "        p.data += -lr*p.grad\n"
   ]
  },
  {
   "cell_type": "code",
   "execution_count": null,
   "id": "ec5c544b",
   "metadata": {},
   "outputs": [
    {
     "name": "stdout",
     "output_type": "stream",
     "text": [
      "3.7300968170166016\n",
      "2.536337375640869\n",
      "2.420426845550537\n",
      "2.192359685897827\n",
      "2.326446056365967\n",
      "2.5079922676086426\n",
      "2.130180835723877\n",
      "2.50620436668396\n",
      "2.3601365089416504\n",
      "2.254638671875\n",
      "2.535080909729004\n",
      "2.0358543395996094\n",
      "2.3286173343658447\n",
      "2.511019229888916\n",
      "1.7870302200317383\n",
      "1.9730944633483887\n",
      "2.0979163646698\n"
     ]
    }
   ],
   "source": [
    "class Linear:\n",
    "    \n",
    "    def __init__(self,input_size,output_size,bais=False):\n",
    "        self.W = torch.randn((input_size,output_size))\n",
    "        self.bais = torch.randn(output_size) if bais else None\n",
    "    \n",
    "    def __call__(self,x):\n",
    "        self.out = x @ self.W\n",
    "        if self.bais is not None:\n",
    "            self.out += self.bais\n",
    "        return self.out\n",
    "    \n",
    "    def parameters(self):\n",
    "        return [self.W] + ([] if self.bais is None else [self.bais])\n",
    "\n",
    "    \n",
    "class BatchNorm:\n",
    "    \n",
    "    def __init__(self,output_size):\n",
    "        self.bnmean_running = torch.zeros(output_size)\n",
    "        self.bnvar_running = torch.ones(output_size)\n",
    "        self.eps = 1e-5\n",
    "        self.training = True\n",
    "        # parameter \n",
    "        self.gamma = torch.ones(output_size)\n",
    "        self.beta = torch.zeros(output_size)\n",
    "    \n",
    "    \n",
    "    def __call__(self,x):\n",
    "        if self.training:\n",
    "            var = x.var(dim=0,keepdims=True)\n",
    "            mean = x.mean(dim=0,keepdims=True)\n",
    "        else:\n",
    "            var = self.bnvar_running\n",
    "            mean = self.bnmean_running\n",
    "        bn = (x-mean)/torch.sqrt(var+self.eps)\n",
    "        self.out = self.gamma * bn + self.beta\n",
    "        if self.training:\n",
    "            with torch.no_grad():\n",
    "                self.bnmean_running = 0.999 * self.bnmean_running + 0.001*mean\n",
    "                self.bnvar_running = 0.999*self.bnvar_running + 0.001*var\n",
    "        return self.out\n",
    "    \n",
    "    def parameters(self):\n",
    "        return [self.gamma,self.beta]\n",
    "\n",
    "class Tanh:\n",
    "    \n",
    "    def __init__(self):\n",
    "        pass\n",
    "    \n",
    "    def __call__(self,x):\n",
    "        self.out = torch.tanh(x)\n",
    "        return self.out\n",
    "    \n",
    "    def parameters(self):\n",
    "        return []\n",
    "\n",
    "C = torch.randn((27,10))\n",
    "linear1 = Linear(30,200,False)\n",
    "bn1 = BatchNorm(200)\n",
    "linear2 = Linear(200,200,False)\n",
    "bn2 = BatchNorm(200)\n",
    "linear3 = Linear(200,200,False)\n",
    "bn3 = BatchNorm(200)\n",
    "linear4 = Linear(200,200,False)\n",
    "bn4 = BatchNorm(200)\n",
    "linear5 = Linear(200,200,False)\n",
    "bn5 = BatchNorm(200)\n",
    "linear6 = Linear(200,27,False)\n",
    "bn6 = BatchNorm(27)\n",
    "tanh = Tanh()\n",
    "\n",
    "\n",
    "layers = [linear1,bn1,Tanh(),linear2,bn2,Tanh(),linear3,bn3,Tanh(),linear4,bn4,Tanh(),\n",
    "          linear5,bn5,Tanh(),linear6,bn6]\n",
    "params = [C]\n",
    "for layer in layers:\n",
    "    params.extend(layer.parameters())\n",
    "\n",
    "for p in params:\n",
    "    p.requires_grad = True\n",
    "\n",
    "\n",
    "for i in range(200000):\n",
    "    ixs = torch.randint(0,len(X),(32,))\n",
    "    Xt = X[ixs] # B,3\n",
    "    Yt = Y[ixs]\n",
    "    embed = C[Xt].view(len(Xt),-1) # B,30\n",
    "    #\n",
    "    logits = embed\n",
    "    for layer in layers:\n",
    "        logits = layer(logits)\n",
    "    counts = logits.exp()\n",
    "    probs = counts / counts.sum(dim=1,keepdims=True)\n",
    "    loss = -probs[torch.arange(len(Yt)),Yt].log().mean()\n",
    "#     loss = F.cross_entropy(logits,Yt)\n",
    "    if i % 10000 == 0:\n",
    "        print(loss.item())\n",
    "#     for layer in layers:\n",
    "#         layer.out.retain_grad()\n",
    "    for p in params:\n",
    "        p.grad = None\n",
    "    loss.backward()\n",
    "    lr = 0.1 if i < 150000 else 0.01\n",
    "    for k,p in enumerate(params):\n",
    "        p.data += -lr*p.grad\n"
   ]
  },
  {
   "cell_type": "code",
   "execution_count": 245,
   "id": "8c2fcea9",
   "metadata": {},
   "outputs": [
    {
     "name": "stdout",
     "output_type": "stream",
     "text": [
      "173670\n"
     ]
    }
   ],
   "source": [
    "print(sum(p.nelement() for p in params)) # number of parameters in total\n"
   ]
  },
  {
   "cell_type": "code",
   "execution_count": 160,
   "id": "76ecdb62",
   "metadata": {},
   "outputs": [
    {
     "data": {
      "text/plain": [
       "2"
      ]
     },
     "execution_count": 160,
     "metadata": {},
     "output_type": "execute_result"
    }
   ],
   "source": []
  },
  {
   "cell_type": "code",
   "execution_count": 246,
   "id": "b15b2285",
   "metadata": {},
   "outputs": [
    {
     "data": {
      "text/plain": [
       "1"
      ]
     },
     "execution_count": 246,
     "metadata": {},
     "output_type": "execute_result"
    }
   ],
   "source": [
    "len(linear2.parameters())"
   ]
  },
  {
   "cell_type": "code",
   "execution_count": 247,
   "id": "bb0d4a60",
   "metadata": {},
   "outputs": [
    {
     "name": "stdout",
     "output_type": "stream",
     "text": [
      "1\n",
      "2\n",
      "0\n",
      "1\n",
      "2\n",
      "0\n",
      "1\n",
      "2\n",
      "0\n",
      "1\n",
      "2\n",
      "0\n",
      "1\n",
      "2\n",
      "0\n",
      "1\n"
     ]
    }
   ],
   "source": [
    "\n",
    "\n",
    "for l in layers:\n",
    "    print(len(l.parameters()))"
   ]
  },
  {
   "cell_type": "code",
   "execution_count": 271,
   "id": "276b29a5",
   "metadata": {},
   "outputs": [
    {
     "name": "stdout",
     "output_type": "stream",
     "text": [
      "jaiva.\n",
      "dayon.\n",
      "carriela.\n",
      "kaya.\n",
      "dela.\n",
      "adelon.\n",
      "zaharus.\n",
      "johnndere.\n",
      "lejievena.\n",
      "hai.\n",
      "elissa.\n",
      "jana.\n",
      "romir.\n",
      "jaishzyn.\n",
      "kmin.\n",
      "ange.\n",
      "avorthanievia.\n",
      "catriel.\n",
      "evee.\n",
      "pran.\n"
     ]
    }
   ],
   "source": [
    "for layer in layers:\n",
    "    layer.training = False\n",
    "\n",
    "for i in range(20):\n",
    "    context = [0]*3\n",
    "    word = []\n",
    "    while True:\n",
    "        c = torch.tensor(context).view(1,3)\n",
    "        embed = C[c].view(-1,30)\n",
    "        logits = embed\n",
    "        for i,layer in enumerate(layers):\n",
    "            logits = layer(logits)\n",
    "#         counts = logits.exp()\n",
    "#         probs = counts / counts.sum(dim=1,keepdims=True)\n",
    "        probs = F.softmax(logits,dim=1)\n",
    "        ix = torch.multinomial(probs,num_samples=1).item()\n",
    "        word.append(itos[ix])\n",
    "        if ix == 0:\n",
    "            break\n",
    "        context = context[1:]+[ix]\n",
    "    print(''.join(word))\n",
    "    "
   ]
  },
  {
   "cell_type": "code",
   "execution_count": 210,
   "id": "4d261fef",
   "metadata": {},
   "outputs": [
    {
     "name": "stdout",
     "output_type": "stream",
     "text": [
      "47024\n"
     ]
    }
   ],
   "source": [
    "# Let's train a deeper network\n",
    "# The classes we create here are the same API as nn.Module in PyTorch\n",
    "\n",
    "class Linear:\n",
    "  \n",
    "  def __init__(self, fan_in, fan_out, bias=True):\n",
    "    self.weight = torch.randn((fan_in, fan_out), generator=g) / fan_in**0.5\n",
    "    self.bias = torch.zeros(fan_out) if bias else None\n",
    "  \n",
    "  def __call__(self, x):\n",
    "    self.out = x @ self.weight\n",
    "    if self.bias is not None:\n",
    "      self.out += self.bias\n",
    "    return self.out\n",
    "  \n",
    "  def parameters(self):\n",
    "    return [self.weight] + ([] if self.bias is None else [self.bias])\n",
    "\n",
    "\n",
    "class BatchNorm1d:\n",
    "  \n",
    "  def __init__(self, dim, eps=1e-5, momentum=0.1):\n",
    "    self.eps = eps\n",
    "    self.momentum = momentum\n",
    "    self.training = True\n",
    "    # parameters (trained with backprop)\n",
    "    self.gamma = torch.ones(dim)\n",
    "    self.beta = torch.zeros(dim)\n",
    "    # buffers (trained with a running 'momentum update')\n",
    "    self.running_mean = torch.zeros(dim)\n",
    "    self.running_var = torch.ones(dim)\n",
    "  \n",
    "  def __call__(self, x):\n",
    "    # calculate the forward pass\n",
    "    if self.training:\n",
    "      xmean = x.mean(0, keepdim=True) # batch mean\n",
    "      xvar = x.var(0, keepdim=True) # batch variance\n",
    "    else:\n",
    "      xmean = self.running_mean\n",
    "      xvar = self.running_var\n",
    "    xhat = (x - xmean) / torch.sqrt(xvar + self.eps) # normalize to unit variance\n",
    "    self.out = self.gamma * xhat + self.beta\n",
    "    # update the buffers\n",
    "    if self.training:\n",
    "      with torch.no_grad():\n",
    "        self.running_mean = (1 - self.momentum) * self.running_mean + self.momentum * xmean\n",
    "        self.running_var = (1 - self.momentum) * self.running_var + self.momentum * xvar\n",
    "    return self.out\n",
    "  \n",
    "  def parameters(self):\n",
    "    return [self.gamma, self.beta]\n",
    "\n",
    "class Tanh:\n",
    "  def __call__(self, x):\n",
    "    self.out = torch.tanh(x)\n",
    "    return self.out\n",
    "  def parameters(self):\n",
    "    return []\n",
    "vocab_size=27\n",
    "block_size=3\n",
    "n_embd = 10 # the dimensionality of the character embedding vectors\n",
    "n_hidden = 100 # the number of neurons in the hidden layer of the MLP\n",
    "g = torch.Generator().manual_seed(2147483647) # for reproducibility\n",
    "\n",
    "C = torch.randn((27, n_embd),            generator=g)\n",
    "layers = [\n",
    "  Linear(n_embd * block_size, n_hidden, bias=False), BatchNorm1d(n_hidden), Tanh(),\n",
    "  Linear(           n_hidden, n_hidden, bias=False), BatchNorm1d(n_hidden), Tanh(),\n",
    "  Linear(           n_hidden, n_hidden, bias=False), BatchNorm1d(n_hidden), Tanh(),\n",
    "  Linear(           n_hidden, n_hidden, bias=False), BatchNorm1d(n_hidden), Tanh(),\n",
    "  Linear(           n_hidden, n_hidden, bias=False), BatchNorm1d(n_hidden), Tanh(),\n",
    "  Linear(           n_hidden, vocab_size, bias=False), BatchNorm1d(vocab_size),\n",
    "]\n",
    "# layers = [\n",
    "#   Linear(n_embd * block_size, n_hidden), Tanh(),\n",
    "#   Linear(           n_hidden, n_hidden), Tanh(),\n",
    "#   Linear(           n_hidden, n_hidden), Tanh(),\n",
    "#   Linear(           n_hidden, n_hidden), Tanh(),\n",
    "#   Linear(           n_hidden, n_hidden), Tanh(),\n",
    "#   Linear(           n_hidden, vocab_size),\n",
    "# ]\n",
    "\n",
    "with torch.no_grad():\n",
    "  # last layer: make less confident\n",
    "  layers[-1].gamma *= 0.1\n",
    "  #layers[-1].weight *= 0.1\n",
    "  # all other layers: apply gain\n",
    "  for layer in layers[:-1]:\n",
    "    if isinstance(layer, Linear):\n",
    "      layer.weight *= 1.0 #5/3\n",
    "\n",
    "parameters = [C] + [p for layer in layers for p in layer.parameters()]\n",
    "print(sum(p.nelement() for p in parameters)) # number of parameters in total\n",
    "for p in parameters:\n",
    "  p.requires_grad = True"
   ]
  },
  {
   "cell_type": "code",
   "execution_count": 211,
   "id": "5c2d2bf5",
   "metadata": {},
   "outputs": [
    {
     "name": "stdout",
     "output_type": "stream",
     "text": [
      "      0/ 200000: 3.2655\n",
      "  10000/ 200000: 2.1920\n",
      "  20000/ 200000: 2.9674\n",
      "  30000/ 200000: 2.1824\n",
      "  40000/ 200000: 2.0169\n",
      "  50000/ 200000: 2.0693\n",
      "  60000/ 200000: 1.9622\n",
      "  70000/ 200000: 2.1996\n",
      "  80000/ 200000: 2.1361\n",
      "  90000/ 200000: 2.0254\n",
      " 100000/ 200000: 1.8179\n",
      " 110000/ 200000: 1.7120\n",
      " 120000/ 200000: 2.1412\n",
      " 130000/ 200000: 1.9781\n",
      " 140000/ 200000: 2.3923\n",
      " 150000/ 200000: 2.1340\n",
      " 160000/ 200000: 2.0724\n",
      " 170000/ 200000: 1.9253\n",
      " 180000/ 200000: 2.3488\n",
      " 190000/ 200000: 2.3244\n"
     ]
    }
   ],
   "source": [
    "# same optimization as last time\n",
    "max_steps = 200000\n",
    "batch_size = 32\n",
    "lossi = []\n",
    "ud = []\n",
    "Xtr = X\n",
    "Ytr = Y\n",
    "for i in range(max_steps):\n",
    "  \n",
    "  # minibatch construct\n",
    "  ix = torch.randint(0, Xtr.shape[0], (batch_size,), generator=g)\n",
    "  Xb, Yb = Xtr[ix], Ytr[ix] # batch X,Y\n",
    "  \n",
    "  # forward pass\n",
    "  emb = C[Xb] # embed the characters into vectors\n",
    "  x = emb.view(emb.shape[0], -1) # concatenate the vectors\n",
    "  for layer in layers:\n",
    "    x = layer(x)\n",
    "  loss = F.cross_entropy(x, Yb) # loss function\n",
    "  \n",
    "  # backward pass\n",
    "  for layer in layers:\n",
    "    layer.out.retain_grad() # AFTER_DEBUG: would take out retain_graph\n",
    "  for p in parameters:\n",
    "    p.grad = None\n",
    "  loss.backward()\n",
    "  \n",
    "  # update\n",
    "  lr = 0.1 if i < 150000 else 0.01 # step learning rate decay\n",
    "  for p in parameters:\n",
    "    p.data += -lr * p.grad\n",
    "\n",
    "  # track stats\n",
    "  if i % 10000 == 0: # print every once in a while\n",
    "    print(f'{i:7d}/{max_steps:7d}: {loss.item():.4f}')\n",
    "  lossi.append(loss.log10().item())\n",
    "  with torch.no_grad():\n",
    "    ud.append([((lr*p.grad).std() / p.data.std()).log10().item() for p in parameters])\n",
    "\n",
    "#   if i >= 1000:\n",
    "#     break # AFTER_DEBUG: would take out obviously to run full optimization"
   ]
  },
  {
   "cell_type": "code",
   "execution_count": 212,
   "id": "3900a75e",
   "metadata": {},
   "outputs": [],
   "source": [
    "# put layers into eval mode\n",
    "for layer in layers:\n",
    "  layer.training = False"
   ]
  },
  {
   "cell_type": "code",
   "execution_count": 266,
   "id": "d56f7e04",
   "metadata": {},
   "outputs": [
    {
     "name": "stdout",
     "output_type": "stream",
     "text": [
      "carmah.\n",
      "amoriq.\n",
      "khi.\n",
      "mili.\n",
      "taty.\n",
      "skanden.\n",
      "jazhitn.\n",
      "deliah.\n",
      "jarqui.\n",
      "nellara.\n",
      "chaiiv.\n",
      "kaleigh.\n",
      "ham.\n",
      "joce.\n",
      "quint.\n",
      "shon.\n",
      "marianni.\n",
      "watelo.\n",
      "dearyxi.\n",
      "jace.\n"
     ]
    }
   ],
   "source": [
    "# sample from the model\n",
    "g = torch.Generator().manual_seed(2147483647 + 10)\n",
    "\n",
    "for _ in range(20):\n",
    "    \n",
    "    out = []\n",
    "    context = [0] * block_size # initialize with all ...\n",
    "    while True:\n",
    "      # forward pass the neural net\n",
    "      emb = C[torch.tensor([context])] # (1,block_size,n_embd)\n",
    "      x = emb.view(emb.shape[0], -1) # concatenate the vectors\n",
    "      for layer in layers:\n",
    "        x = layer(x)\n",
    "      logits = x\n",
    "      probs = F.softmax(logits, dim=1)\n",
    "      # sample from the distribution\n",
    "      ix = torch.multinomial(probs, num_samples=1, generator=g).item()\n",
    "      # shift the context window and track the samples\n",
    "      context = context[1:] + [ix]\n",
    "      out.append(ix)\n",
    "      # if we sample the special '.' token, break\n",
    "      if ix == 0:\n",
    "        break\n",
    "    \n",
    "    print(''.join(itos[i] for i in out)) # decode and print the generated word"
   ]
  },
  {
   "cell_type": "code",
   "execution_count": 226,
   "id": "31e945d1",
   "metadata": {},
   "outputs": [
    {
     "name": "stdout",
     "output_type": "stream",
     "text": [
      "dani.\n",
      "rydore.\n",
      "azton.\n",
      "sophan.\n",
      "damyrani.\n",
      "madomi.\n",
      "chrish.\n",
      "meymontreviden.\n",
      "kaity.\n",
      "kyrick.\n",
      "angeliyah.\n",
      "mieranc.\n",
      "corvii.\n",
      "aza.\n",
      "huz.\n",
      "malia.\n",
      "rosalan.\n",
      "lona.\n",
      "alesticus.\n",
      "moed.\n"
     ]
    }
   ],
   "source": [
    "for layer in layers:\n",
    "    layer.training = False\n",
    "\n",
    "for i in range(20):\n",
    "    context = [0]*3\n",
    "    word = []\n",
    "    while True:\n",
    "        c = torch.tensor(context).view(1,3)\n",
    "        embed = C[c].view(-1,30)\n",
    "        logits = embed\n",
    "        for i,layer in enumerate(layers):\n",
    "            logits = layer(logits)\n",
    "        counts = logits.exp()\n",
    "        probs = counts / counts.sum(dim=1,keepdims=True)\n",
    "        ix = torch.multinomial(probs,num_samples=1).item()\n",
    "        word.append(itos[ix])\n",
    "        if ix == 0:\n",
    "            break\n",
    "        context = context[1:]+[ix]\n",
    "    print(''.join(word))"
   ]
  },
  {
   "cell_type": "code",
   "execution_count": null,
   "id": "d1fc9384",
   "metadata": {},
   "outputs": [],
   "source": []
  }
 ],
 "metadata": {
  "kernelspec": {
   "display_name": "local_nmt",
   "language": "python",
   "name": "local_nmt"
  },
  "language_info": {
   "codemirror_mode": {
    "name": "ipython",
    "version": 3
   },
   "file_extension": ".py",
   "mimetype": "text/x-python",
   "name": "python",
   "nbconvert_exporter": "python",
   "pygments_lexer": "ipython3",
   "version": "3.8.16"
  }
 },
 "nbformat": 4,
 "nbformat_minor": 5
}
