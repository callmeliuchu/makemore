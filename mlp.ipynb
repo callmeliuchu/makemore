{
 "cells": [
  {
   "cell_type": "code",
   "execution_count": 1,
   "id": "0e0215f3",
   "metadata": {},
   "outputs": [],
   "source": [
    "import torch\n",
    "import torch.nn.functional as F\n",
    "import matplotlib.pyplot as plt\n",
    "%matplotlib inline"
   ]
  },
  {
   "cell_type": "code",
   "execution_count": 2,
   "id": "59e5f95d",
   "metadata": {},
   "outputs": [],
   "source": [
    "words = open('names.txt','r').read().split()"
   ]
  },
  {
   "cell_type": "code",
   "execution_count": 3,
   "id": "997ac197",
   "metadata": {},
   "outputs": [
    {
     "data": {
      "text/plain": [
       "['emma',\n",
       " 'olivia',\n",
       " 'ava',\n",
       " 'isabella',\n",
       " 'sophia',\n",
       " 'charlotte',\n",
       " 'mia',\n",
       " 'amelia',\n",
       " 'harper',\n",
       " 'evelyn']"
      ]
     },
     "execution_count": 3,
     "metadata": {},
     "output_type": "execute_result"
    }
   ],
   "source": [
    "words[:10]"
   ]
  },
  {
   "cell_type": "code",
   "execution_count": 4,
   "id": "233fe321",
   "metadata": {},
   "outputs": [
    {
     "data": {
      "text/plain": [
       "32033"
      ]
     },
     "execution_count": 4,
     "metadata": {},
     "output_type": "execute_result"
    }
   ],
   "source": [
    "len(words)"
   ]
  },
  {
   "cell_type": "code",
   "execution_count": 8,
   "id": "e8c98b0d",
   "metadata": {},
   "outputs": [],
   "source": [
    "chars = ''.join(sorted(list(set(''.join(words)))))"
   ]
  },
  {
   "cell_type": "code",
   "execution_count": 9,
   "id": "7f373c60",
   "metadata": {},
   "outputs": [
    {
     "data": {
      "text/plain": [
       "'abcdefghijklmnopqrstuvwxyz'"
      ]
     },
     "execution_count": 9,
     "metadata": {},
     "output_type": "execute_result"
    }
   ],
   "source": [
    "chars"
   ]
  },
  {
   "cell_type": "code",
   "execution_count": 10,
   "id": "ad1650ba",
   "metadata": {},
   "outputs": [],
   "source": [
    "itos = {}\n",
    "stoi = {}\n",
    "stoi['.'] = 0\n",
    "itos[0] = '.'\n",
    "for i,s in enumerate(chars):\n",
    "    stoi[s] = i + 1\n",
    "    itos[i+1] = s"
   ]
  },
  {
   "cell_type": "code",
   "execution_count": 52,
   "id": "37f00b70",
   "metadata": {},
   "outputs": [
    {
     "name": "stdout",
     "output_type": "stream",
     "text": [
      "yuheng\n",
      "[14, 7, 0]\n",
      "[[0, 0, 0], [0, 0, 25], [0, 25, 21], [25, 21, 8], [21, 8, 5], [8, 5, 14], [5, 14, 7]]\n",
      "[25, 21, 8, 5, 14, 7, 0]\n"
     ]
    }
   ],
   "source": [
    "block_size = 3\n",
    "X,Y = [],[]\n",
    "\n",
    "\n",
    "for w in words:\n",
    "    print(w)\n",
    "    context = [0]*block_size\n",
    "    for ch in w + '.':\n",
    "        ix = stoi[ch]\n",
    "        X.append(context)\n",
    "        Y.append(ix)\n",
    "        context = context[1:] + [ix]\n",
    "    print(context)\n",
    "    print(X)\n",
    "    print(Y)\n",
    "    break"
   ]
  },
  {
   "cell_type": "code",
   "execution_count": 53,
   "id": "7747ffd6",
   "metadata": {},
   "outputs": [],
   "source": [
    "X = torch.tensor(X)\n",
    "Y = torch.tensor(Y)"
   ]
  },
  {
   "cell_type": "code",
   "execution_count": 15,
   "id": "bfe2919c",
   "metadata": {},
   "outputs": [
    {
     "data": {
      "text/plain": [
       "tensor([[ 0,  0,  0],\n",
       "        [ 0,  0,  5],\n",
       "        [ 0,  5, 13],\n",
       "        [ 5, 13, 13],\n",
       "        [13, 13,  1]])"
      ]
     },
     "execution_count": 15,
     "metadata": {},
     "output_type": "execute_result"
    }
   ],
   "source": [
    "X"
   ]
  },
  {
   "cell_type": "code",
   "execution_count": 16,
   "id": "6cd43d54",
   "metadata": {},
   "outputs": [
    {
     "data": {
      "text/plain": [
       "tensor([ 5, 13, 13,  1,  0])"
      ]
     },
     "execution_count": 16,
     "metadata": {},
     "output_type": "execute_result"
    }
   ],
   "source": [
    "Y"
   ]
  },
  {
   "cell_type": "code",
   "execution_count": 17,
   "id": "ba223a56",
   "metadata": {},
   "outputs": [],
   "source": [
    "def build_dataset(words):\n",
    "    X = []\n",
    "    Y = []\n",
    "    block_size = 3\n",
    "    for w in words:\n",
    "        context = [0] * block_size\n",
    "        for c in w + '.':\n",
    "            ix = stoi[c]\n",
    "            X.append(context)\n",
    "            Y.append(ix)\n",
    "            context = context[1:] + [ix]\n",
    "    X = torch.tensor(X)\n",
    "    Y = torch.tensor(Y)\n",
    "    return X,Y\n",
    "            "
   ]
  },
  {
   "cell_type": "code",
   "execution_count": 19,
   "id": "4fac7e3a",
   "metadata": {},
   "outputs": [],
   "source": [
    "import random\n",
    "random.seed(42)\n",
    "random.shuffle(words)\n",
    "n1 = int(0.8*len(words))\n",
    "n2 = int(0.9*len(words))\n"
   ]
  },
  {
   "cell_type": "code",
   "execution_count": 21,
   "id": "81d9b575",
   "metadata": {},
   "outputs": [],
   "source": [
    "Xtr,Ytr = build_dataset(words[:n1])\n",
    "Xdev,Ydev = build_dataset(words[n1:n2])\n",
    "Xte,Yte = build_dataset(words[n2:])"
   ]
  },
  {
   "cell_type": "code",
   "execution_count": 25,
   "id": "bea8b0cd",
   "metadata": {},
   "outputs": [
    {
     "data": {
      "text/plain": [
       "(torch.Size([182625, 3]), torch.Size([182625]))"
      ]
     },
     "execution_count": 25,
     "metadata": {},
     "output_type": "execute_result"
    }
   ],
   "source": [
    "Xtr.shape,Ytr.shape"
   ]
  },
  {
   "cell_type": "code",
   "execution_count": 54,
   "id": "ab028147",
   "metadata": {},
   "outputs": [],
   "source": [
    "C = torch.randn((27,2))"
   ]
  },
  {
   "cell_type": "code",
   "execution_count": 55,
   "id": "119cce27",
   "metadata": {},
   "outputs": [],
   "source": [
    "emb = C[X]"
   ]
  },
  {
   "cell_type": "code",
   "execution_count": 56,
   "id": "4f1792e1",
   "metadata": {},
   "outputs": [
    {
     "data": {
      "text/plain": [
       "tensor([[ 0,  0,  0],\n",
       "        [ 0,  0, 25],\n",
       "        [ 0, 25, 21],\n",
       "        [25, 21,  8],\n",
       "        [21,  8,  5],\n",
       "        [ 8,  5, 14],\n",
       "        [ 5, 14,  7]])"
      ]
     },
     "execution_count": 56,
     "metadata": {},
     "output_type": "execute_result"
    }
   ],
   "source": [
    "X"
   ]
  },
  {
   "cell_type": "code",
   "execution_count": 57,
   "id": "db1bdcd9",
   "metadata": {},
   "outputs": [
    {
     "data": {
      "text/plain": [
       "tensor([[[-0.6741,  0.6101],\n",
       "         [-0.6741,  0.6101],\n",
       "         [-0.6741,  0.6101]],\n",
       "\n",
       "        [[-0.6741,  0.6101],\n",
       "         [-0.6741,  0.6101],\n",
       "         [ 0.7455, -0.6417]],\n",
       "\n",
       "        [[-0.6741,  0.6101],\n",
       "         [ 0.7455, -0.6417],\n",
       "         [ 0.0573, -0.6937]],\n",
       "\n",
       "        [[ 0.7455, -0.6417],\n",
       "         [ 0.0573, -0.6937],\n",
       "         [-0.0830,  0.8226]],\n",
       "\n",
       "        [[ 0.0573, -0.6937],\n",
       "         [-0.0830,  0.8226],\n",
       "         [-0.9749, -0.1916]],\n",
       "\n",
       "        [[-0.0830,  0.8226],\n",
       "         [-0.9749, -0.1916],\n",
       "         [-1.4217, -0.4277]],\n",
       "\n",
       "        [[-0.9749, -0.1916],\n",
       "         [-1.4217, -0.4277],\n",
       "         [ 0.3245, -0.2512]]])"
      ]
     },
     "execution_count": 57,
     "metadata": {},
     "output_type": "execute_result"
    }
   ],
   "source": [
    "C[X]"
   ]
  },
  {
   "cell_type": "code",
   "execution_count": 58,
   "id": "25ef6553",
   "metadata": {},
   "outputs": [
    {
     "data": {
      "text/plain": [
       "torch.Size([7, 6])"
      ]
     },
     "execution_count": 58,
     "metadata": {},
     "output_type": "execute_result"
    }
   ],
   "source": [
    "emb.view(-1,6).shape"
   ]
  },
  {
   "cell_type": "code",
   "execution_count": 59,
   "id": "7c43d89a",
   "metadata": {},
   "outputs": [],
   "source": [
    "W1 = torch.randn((6,100))\n",
    "b1 = torch.randn(100)"
   ]
  },
  {
   "cell_type": "code",
   "execution_count": 60,
   "id": "2ecb261b",
   "metadata": {},
   "outputs": [],
   "source": [
    "x  = emb.view(-1,6) @ W1 + b1"
   ]
  },
  {
   "cell_type": "code",
   "execution_count": 61,
   "id": "28102efd",
   "metadata": {},
   "outputs": [],
   "source": [
    "h = torch.tanh(x)"
   ]
  },
  {
   "cell_type": "code",
   "execution_count": 62,
   "id": "b1c26cc4",
   "metadata": {},
   "outputs": [],
   "source": [
    "W2 = torch.randn((100,27))\n",
    "b2 = torch.randn(27)"
   ]
  },
  {
   "cell_type": "code",
   "execution_count": 63,
   "id": "94c3e790",
   "metadata": {},
   "outputs": [],
   "source": [
    "logits = h @ W2 + b2"
   ]
  },
  {
   "cell_type": "code",
   "execution_count": 64,
   "id": "b0a7363a",
   "metadata": {},
   "outputs": [
    {
     "data": {
      "text/plain": [
       "torch.Size([7, 27])"
      ]
     },
     "execution_count": 64,
     "metadata": {},
     "output_type": "execute_result"
    }
   ],
   "source": [
    "logits.shape"
   ]
  },
  {
   "cell_type": "code",
   "execution_count": 65,
   "id": "583f1da7",
   "metadata": {},
   "outputs": [],
   "source": [
    "counts = logits.exp()"
   ]
  },
  {
   "cell_type": "code",
   "execution_count": 66,
   "id": "88ae3c54",
   "metadata": {},
   "outputs": [],
   "source": [
    "probs = counts / counts.sum(dim=1,keepdims=True)"
   ]
  },
  {
   "cell_type": "code",
   "execution_count": null,
   "id": "abd3a23c",
   "metadata": {},
   "outputs": [],
   "source": []
  },
  {
   "cell_type": "code",
   "execution_count": 73,
   "id": "55656114",
   "metadata": {},
   "outputs": [],
   "source": [
    "loss=-probs[torch.arange(len(Y)),Y].log().mean()"
   ]
  },
  {
   "cell_type": "code",
   "execution_count": 74,
   "id": "96d3327c",
   "metadata": {},
   "outputs": [
    {
     "data": {
      "text/plain": [
       "tensor(12.3604)"
      ]
     },
     "execution_count": 74,
     "metadata": {},
     "output_type": "execute_result"
    }
   ],
   "source": [
    "loss"
   ]
  },
  {
   "cell_type": "code",
   "execution_count": 78,
   "id": "b645cb7e",
   "metadata": {},
   "outputs": [],
   "source": []
  },
  {
   "cell_type": "code",
   "execution_count": 76,
   "id": "b3947481",
   "metadata": {},
   "outputs": [
    {
     "data": {
      "text/plain": [
       "5827"
      ]
     },
     "execution_count": 76,
     "metadata": {},
     "output_type": "execute_result"
    }
   ],
   "source": [
    "sum(p.nelement() for p in parameters)"
   ]
  },
  {
   "cell_type": "code",
   "execution_count": 80,
   "id": "3f0ff96b",
   "metadata": {},
   "outputs": [],
   "source": []
  },
  {
   "cell_type": "code",
   "execution_count": 85,
   "id": "fee46b26",
   "metadata": {},
   "outputs": [],
   "source": []
  },
  {
   "cell_type": "code",
   "execution_count": 145,
   "id": "619c3e7f",
   "metadata": {},
   "outputs": [],
   "source": [
    "g = torch.Generator().manual_seed(2147483647)\n",
    "C = torch.randn((27,10),generator=g) # embedding\n",
    "W1 = torch.randn((30,200),generator=g)\n",
    "b1 = torch.randn(200,generator=g)\n",
    "W2 = torch.randn((200,27),generator=g)\n",
    "b2 = torch.rand(27,generator=g)\n",
    "parameters = [C,W1,b1,W2,b2]\n",
    "for p in parameters:\n",
    "    p.requires_grad = True\n",
    "lre = torch.linspace(-3, 0, 1000)\n",
    "lrs = 10**lre\n",
    "def train(XX,YY):\n",
    "\n",
    "    lri = []\n",
    "    lossi = []\n",
    "    stepi = []\n",
    "    for i in range(200000):\n",
    "        ix = torch.randint(0, Xtr.shape[0], (32,))\n",
    "\n",
    "        emb = C[Xtr[ix]] # N,3,10\n",
    "        h = torch.tanh(emb.view(-1,30) @ W1 + b1) # N,100\n",
    "        logits = h @ W2 + b2  # N,27\n",
    "        counts = logits.exp()\n",
    "        probs = counts / counts.sum(dim=1,keepdims=True)\n",
    "        loss = -probs[torch.arange(32),YY[ix]].log().mean()\n",
    "\n",
    "        for p in parameters:\n",
    "            p.grad = None\n",
    "\n",
    "        loss.backward()\n",
    "\n",
    "        lr = 0.1 if i < 100000 else 0.001\n",
    "        for p in parameters:\n",
    "            p.data += -lr*p.grad\n",
    "        lri.append(lr)\n",
    "        stepi.append(i)\n",
    "        lossi.append(loss.log().item())\n",
    "    return lri,lossi,stepi\n",
    "    \n",
    "#     print(loss.item())"
   ]
  },
  {
   "cell_type": "code",
   "execution_count": 146,
   "id": "cc4594dc",
   "metadata": {},
   "outputs": [],
   "source": [
    "lri,lossi,steoi=train(Xtr,Ytr)"
   ]
  },
  {
   "cell_type": "code",
   "execution_count": 147,
   "id": "1f9c16ff",
   "metadata": {},
   "outputs": [
    {
     "data": {
      "text/plain": [
       "[<matplotlib.lines.Line2D at 0x2e5b3b5b0>]"
      ]
     },
     "execution_count": 147,
     "metadata": {},
     "output_type": "execute_result"
    },
    {
     "data": {
      "image/png": "[encoded data removed]",
      "text/plain": [
       "<Figure size 640x480 with 1 Axes>"
      ]
     },
     "metadata": {},
     "output_type": "display_data"
    }
   ],
   "source": [
    "plt.plot(steoi,lossi)"
   ]
  },
  {
   "cell_type": "code",
   "execution_count": 148,
   "id": "8bf7e1e8",
   "metadata": {},
   "outputs": [
    {
     "data": {
      "text/plain": [
       "tensor(2.5078, grad_fn=<NegBackward0>)"
      ]
     },
     "execution_count": 148,
     "metadata": {},
     "output_type": "execute_result"
    }
   ],
   "source": [
    "emb = C[Xtr]\n",
    "h = torch.tanh(emb.view(-1,30) @ W1 + b1) # N,100\n",
    "logits = h @ W2 + b2  # N,27\n",
    "counts = logits.exp()\n",
    "probs = counts / counts.sum(dim=1,keepdims=True)\n",
    "loss = -probs[torch.arange(len(Ytr)),Ydev[ix]].log().mean()\n",
    "loss"
   ]
  },
  {
   "cell_type": "code",
   "execution_count": 150,
   "id": "11ed743a",
   "metadata": {},
   "outputs": [
    {
     "data": {
      "text/plain": [
       "tensor(2.4976, grad_fn=<NegBackward0>)"
      ]
     },
     "execution_count": 150,
     "metadata": {},
     "output_type": "execute_result"
    }
   ],
   "source": [
    "emb = C[Xdev]\n",
    "h = torch.tanh(emb.view(-1,30) @ W1 + b1) # N,100\n",
    "logits = h @ W2 + b2  # N,27\n",
    "counts = logits.exp()\n",
    "probs = counts / counts.sum(dim=1,keepdims=True)\n",
    "loss = -probs[torch.arange(len(Ydev)),Ydev[ix]].log().mean()\n",
    "loss"
   ]
  },
  {
   "cell_type": "code",
   "execution_count": 151,
   "id": "a2d5e748",
   "metadata": {},
   "outputs": [
    {
     "data": {
      "text/plain": [
       "tensor(5.1741, grad_fn=<NegBackward0>)"
      ]
     },
     "execution_count": 151,
     "metadata": {},
     "output_type": "execute_result"
    }
   ],
   "source": [
    "emb = C[Xte]\n",
    "h = torch.tanh(emb.view(-1,30) @ W1 + b1) # N,100\n",
    "logits = h @ W2 + b2  # N,27\n",
    "counts = logits.exp()\n",
    "probs = counts / counts.sum(dim=1,keepdims=True)\n",
    "loss = -probs[torch.arange(len(Yte)),Yte[ix]].log().mean()\n",
    "loss"
   ]
  },
  {
   "cell_type": "code",
   "execution_count": 152,
   "id": "bcec5ec5",
   "metadata": {},
   "outputs": [
    {
     "data": {
      "image/png": "[encoded data removed]",
      "text/plain": [
       "<Figure size 800x800 with 1 Axes>"
      ]
     },
     "metadata": {},
     "output_type": "display_data"
    }
   ],
   "source": [
    "plt.figure(figsize=(8,8))\n",
    "plt.scatter(C[:,0].data,C[:,1].data,s=200)\n",
    "for i in range(C.shape[0]):\n",
    "    plt.text(C[i,0],C[i,1],itos[i],ha='center',va='center')\n",
    "plt.grid('minor')"
   ]
  },
  {
   "cell_type": "code",
   "execution_count": 161,
   "id": "7fd8d2c0",
   "metadata": {},
   "outputs": [
    {
     "name": "stdout",
     "output_type": "stream",
     "text": [
      "valeou.\n",
      "tyana.\n",
      "noe.\n",
      "cosi.\n",
      "fex.\n",
      "cras.\n",
      "kassynce.\n",
      "basson.\n",
      "lhy.\n",
      "kemanya.\n",
      "tami.\n",
      "nalah.\n",
      "dadeen.\n",
      "editon.\n",
      "malvann.\n",
      "alainlennley.\n",
      "maxton.\n",
      "rubela.\n",
      "hatt.\n",
      "rivero.\n",
      "dake.\n",
      "miia.\n",
      "brimia.\n",
      "kayci.\n",
      "dane.\n",
      "ren.\n",
      "malianah.\n",
      "jebrae.\n",
      "cipser.\n",
      "dafton.\n",
      "kenganaan.\n",
      "jurn.\n",
      "gile.\n",
      "muroheya.\n",
      "emidianna.\n",
      "tasponelijahita.\n",
      "lenniel.\n",
      "kamarcerick.\n",
      "emmanirysella.\n",
      "maxuma.\n",
      "amar.\n",
      "khy.\n",
      "counny.\n",
      "anni.\n",
      "denna.\n",
      "aubryn.\n",
      "katon.\n",
      "azlee.\n",
      "falir.\n",
      "eritory.\n",
      "abdan.\n",
      "bailamileinie.\n",
      "lean.\n",
      "julionniallalynn.\n",
      "elon.\n",
      "jakauazhrerz.\n",
      "esza.\n",
      "mehris.\n",
      "kalosy.\n",
      "mail.\n",
      "hawan.\n",
      "yveryserrn.\n",
      "brie.\n",
      "matkalynna.\n",
      "kalla.\n",
      "torta.\n",
      "tie.\n",
      "amirilad.\n",
      "azz.\n",
      "harloue.\n",
      "jaya.\n",
      "iblee.\n",
      "blacheeman.\n",
      "ela.\n",
      "kyriah.\n",
      "amis.\n",
      "auronya.\n",
      "ashra.\n",
      "able.\n",
      "elh.\n",
      "palayya.\n",
      "mareith.\n",
      "milose.\n",
      "ash.\n",
      "jan.\n",
      "lyzeer.\n",
      "dreish.\n",
      "makaiia.\n",
      "cisanysa.\n",
      "moon.\n",
      "dydiny.\n",
      "lilyn.\n",
      "jusleigh.\n",
      "xua.\n",
      "semonsan.\n",
      "hayuelley.\n",
      "haana.\n",
      "eriyhan.\n",
      "mararil.\n",
      "jago.\n"
     ]
    }
   ],
   "source": [
    "for _ in range(100):\n",
    "    \n",
    "    \n",
    "    context = [0]*3\n",
    "    word = []\n",
    "    while True:\n",
    "        emb = C[torch.tensor(context).view(-1,3)] # 1,3,10\n",
    "        h = torch.tanh(emb.view(-1,30) @ W1 + b1)\n",
    "        logits = h @ W2 + b2\n",
    "        counts = logits.exp()\n",
    "        probs = counts / counts.sum(dim=1,keepdims=True)\n",
    "        ix = torch.multinomial(probs,num_samples=1).item()\n",
    "        word.append(itos[ix])\n",
    "        context = context[1:]+[ix]\n",
    "        if ix == 0:\n",
    "            break\n",
    "    print(''.join(word))"
   ]
  },
  {
   "cell_type": "code",
   "execution_count": 163,
   "id": "41467e15",
   "metadata": {},
   "outputs": [],
   "source": [
    "XX = C.detach().numpy()"
   ]
  },
  {
   "cell_type": "code",
   "execution_count": 166,
   "id": "42f58363",
   "metadata": {},
   "outputs": [],
   "source": [
    "from sklearn.decomposition import PCA"
   ]
  },
  {
   "cell_type": "code",
   "execution_count": 167,
   "id": "511eef6e",
   "metadata": {},
   "outputs": [],
   "source": [
    "pca = PCA(n_components=2)"
   ]
  },
  {
   "cell_type": "code",
   "execution_count": 168,
   "id": "658df1bc",
   "metadata": {},
   "outputs": [
    {
     "data": {
      "text/html": [
       "<style>#sk-container-id-1 {color: black;background-color: white;}#sk-container-id-1 pre{padding: 0;}#sk-container-id-1 div.sk-toggleable {background-color: white;}#sk-container-id-1 label.sk-toggleable__label {cursor: pointer;display: block;width: 100%;margin-bottom: 0;padding: 0.3em;box-sizing: border-box;text-align: center;}#sk-container-id-1 label.sk-toggleable__label-arrow:before {content: \"▸\";float: left;margin-right: 0.25em;color: #696969;}#sk-container-id-1 label.sk-toggleable__label-arrow:hover:before {color: black;}#sk-container-id-1 div.sk-estimator:hover label.sk-toggleable__label-arrow:before {color: black;}#sk-container-id-1 div.sk-toggleable__content {max-height: 0;max-width: 0;overflow: hidden;text-align: left;background-color: #f0f8ff;}#sk-container-id-1 div.sk-toggleable__content pre {margin: 0.2em;color: black;border-radius: 0.25em;background-color: #f0f8ff;}#sk-container-id-1 input.sk-toggleable__control:checked~div.sk-toggleable__content {max-height: 200px;max-width: 100%;overflow: auto;}#sk-container-id-1 input.sk-toggleable__control:checked~label.sk-toggleable__label-arrow:before {content: \"▾\";}#sk-container-id-1 div.sk-estimator input.sk-toggleable__control:checked~label.sk-toggleable__label {background-color: #d4ebff;}#sk-container-id-1 div.sk-label input.sk-toggleable__control:checked~label.sk-toggleable__label {background-color: #d4ebff;}#sk-container-id-1 input.sk-hidden--visually {border: 0;clip: rect(1px 1px 1px 1px);clip: rect(1px, 1px, 1px, 1px);height: 1px;margin: -1px;overflow: hidden;padding: 0;position: absolute;width: 1px;}#sk-container-id-1 div.sk-estimator {font-family: monospace;background-color: #f0f8ff;border: 1px dotted black;border-radius: 0.25em;box-sizing: border-box;margin-bottom: 0.5em;}#sk-container-id-1 div.sk-estimator:hover {background-color: #d4ebff;}#sk-container-id-1 div.sk-parallel-item::after {content: \"\";width: 100%;border-bottom: 1px solid gray;flex-grow: 1;}#sk-container-id-1 div.sk-label:hover label.sk-toggleable__label {background-color: #d4ebff;}#sk-container-id-1 div.sk-serial::before {content: \"\";position: absolute;border-left: 1px solid gray;box-sizing: border-box;top: 0;bottom: 0;left: 50%;z-index: 0;}#sk-container-id-1 div.sk-serial {display: flex;flex-direction: column;align-items: center;background-color: white;padding-right: 0.2em;padding-left: 0.2em;position: relative;}#sk-container-id-1 div.sk-item {position: relative;z-index: 1;}#sk-container-id-1 div.sk-parallel {display: flex;align-items: stretch;justify-content: center;background-color: white;position: relative;}#sk-container-id-1 div.sk-item::before, #sk-container-id-1 div.sk-parallel-item::before {content: \"\";position: absolute;border-left: 1px solid gray;box-sizing: border-box;top: 0;bottom: 0;left: 50%;z-index: -1;}#sk-container-id-1 div.sk-parallel-item {display: flex;flex-direction: column;z-index: 1;position: relative;background-color: white;}#sk-container-id-1 div.sk-parallel-item:first-child::after {align-self: flex-end;width: 50%;}#sk-container-id-1 div.sk-parallel-item:last-child::after {align-self: flex-start;width: 50%;}#sk-container-id-1 div.sk-parallel-item:only-child::after {width: 0;}#sk-container-id-1 div.sk-dashed-wrapped {border: 1px dashed gray;margin: 0 0.4em 0.5em 0.4em;box-sizing: border-box;padding-bottom: 0.4em;background-color: white;}#sk-container-id-1 div.sk-label label {font-family: monospace;font-weight: bold;display: inline-block;line-height: 1.2em;}#sk-container-id-1 div.sk-label-container {text-align: center;}#sk-container-id-1 div.sk-container {/* jupyter's `normalize.less` sets `[hidden] { display: none; }` but bootstrap.min.css set `[hidden] { display: none !important; }` so we also need the `!important` here to be able to override the default hidden behavior on the sphinx rendered scikit-learn.org. See: https://github.com/scikit-learn/scikit-learn/issues/21755 */display: inline-block !important;position: relative;}#sk-container-id-1 div.sk-text-repr-fallback {display: none;}</style><div id=\"sk-container-id-1\" class=\"sk-top-container\"><div class=\"sk-text-repr-fallback\"><pre>PCA(n_components=2)</pre><b>In a Jupyter environment, please rerun this cell to show the HTML representation or trust the notebook. <br />On GitHub, the HTML representation is unable to render, please try loading this page with nbviewer.org.</b></div><div class=\"sk-container\" hidden><div class=\"sk-item\"><div class=\"sk-estimator sk-toggleable\"><input class=\"sk-toggleable__control sk-hidden--visually\" id=\"sk-estimator-id-1\" type=\"checkbox\" checked><label for=\"sk-estimator-id-1\" class=\"sk-toggleable__label sk-toggleable__label-arrow\">PCA</label><div class=\"sk-toggleable__content\"><pre>PCA(n_components=2)</pre></div></div></div></div></div>"
      ],
      "text/plain": [
       "PCA(n_components=2)"
      ]
     },
     "execution_count": 168,
     "metadata": {},
     "output_type": "execute_result"
    }
   ],
   "source": [
    "pca.fit(XX)"
   ]
  },
  {
   "cell_type": "code",
   "execution_count": 170,
   "id": "a240c2e5",
   "metadata": {},
   "outputs": [],
   "source": [
    "new_XX=pca.fit_transform(XX)"
   ]
  },
  {
   "cell_type": "code",
   "execution_count": 173,
   "id": "a3d5372f",
   "metadata": {},
   "outputs": [
    {
     "data": {
      "text/plain": [
       "array([0.3112145 , 0.22356692], dtype=float32)"
      ]
     },
     "execution_count": 173,
     "metadata": {},
     "output_type": "execute_result"
    }
   ],
   "source": [
    "pca.explained_variance_ratio_"
   ]
  },
  {
   "cell_type": "code",
   "execution_count": 171,
   "id": "41cff6a1",
   "metadata": {},
   "outputs": [
    {
     "data": {
      "image/png": "[encoded data removed]",
      "text/plain": [
       "<Figure size 800x800 with 1 Axes>"
      ]
     },
     "metadata": {},
     "output_type": "display_data"
    }
   ],
   "source": [
    "plt.figure(figsize=(8,8))\n",
    "plt.scatter(new_XX[:,0].data,new_XX[:,1].data,s=200)\n",
    "for i in range(new_XX.shape[0]):\n",
    "    plt.text(new_XX[i,0],new_XX[i,1],itos[i],ha='center',va='center')\n",
    "plt.grid('minor')"
   ]
  },
  {
   "cell_type": "code",
   "execution_count": null,
   "id": "afb9a847",
   "metadata": {},
   "outputs": [],
   "source": []
  }
 ],
 "metadata": {
  "kernelspec": {
   "display_name": "local_nmt",
   "language": "python",
   "name": "local_nmt"
  },
  "language_info": {
   "codemirror_mode": {
    "name": "ipython",
    "version": 3
   },
   "file_extension": ".py",
   "mimetype": "text/x-python",
   "name": "python",
   "nbconvert_exporter": "python",
   "pygments_lexer": "ipython3",
   "version": "3.8.16"
  }
 },
 "nbformat": 4,
 "nbformat_minor": 5
}
